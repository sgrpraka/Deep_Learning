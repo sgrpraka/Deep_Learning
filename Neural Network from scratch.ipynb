{
 "cells": [
  {
   "cell_type": "code",
   "execution_count": 1,
   "metadata": {},
   "outputs": [],
   "source": [
    "import numpy as np\n",
    "import matplotlib.pyplot as plt\n",
    "\n",
    "class NeuralNetwork:\n",
    "    def __init__(self,data,labels):\n",
    "        self.z1=data\n",
    "        self.y1=labels\n",
    "        self.inputlayersize=2\n",
    "        self.hiddenlayersize=3\n",
    "        self.outputlayersize=1\n",
    "        self.w1=np.random.normal(size=(self.inputlayersize,self.hiddenlayersize))\n",
    "        self.w2=np.random.normal(size=(self.hiddenlayersize,self.outputlayersize))\n",
    "        self.z2=0\n",
    "        self.a2=0\n",
    "        self.z3=0\n",
    "        self.yhat=0\n",
    "        self.meansquareerror=0\n",
    "        self.dJdw1=0\n",
    "        self.dJdw2=0\n",
    "        self.learningrate=0.001\n",
    "        self.loss=[]\n",
    "        self.optimisation() \n",
    "        \n",
    "    def forward(self):\n",
    "        self.z2=np.array(np.dot(self.z1,self.w1))\n",
    "        self.a2=np.array(self.sigmoid(self.z2))\n",
    "        self.z3=np.array(np.dot(self.a2,self.w2))\n",
    "        self.yhat=np.array(self.sigmoid(self.z3))\n",
    "        return self.yhat\n",
    "    \n",
    "    def sigmoid(self,z1):\n",
    "        return(1/(1+np.exp(-1*z1)))\n",
    "    \n",
    "    def sigmoidderivative(self,z1):\n",
    "        return(np.exp(-1*z1))/(1+np.exp(-1*z1))**2\n",
    "    \n",
    "    def costfunction(self):\n",
    "        self.meansquareerror=np.sum((self.yhat-self.y1)**2)/2\n",
    "        return self.meansquareerror\n",
    "    \n",
    "    def costfunctionderivative(self,z1,u):\n",
    "        return np.dot(u.T,np.multiply((-1*self.y1-self.yhat),self.sigmoidderivative(z1)))\n",
    "    \n",
    "    def back(self):\n",
    "        self.dJdw1=self.costfunctionderivative(self.z3,self.z1)\n",
    "        self.dJdw2=self.costfunctionderivative(self.z3,self.a2)\n",
    "        \n",
    "    def gradientdescent(self):\n",
    "        self.w1=self.w1-(self.learningrate * self.dJdw1)\n",
    "        self.w2=self.w2-(self.learningrate * self.dJdw2)\n",
    "        \n",
    "    def optimisation(self):\n",
    "        for i in range(10):\n",
    "            self.forward()\n",
    "            self.back()\n",
    "            self.gradientdescent()\n",
    "            h=self.costfunction()\n",
    "            self.loss.append(h)     "
   ]
  },
  {
   "cell_type": "code",
   "execution_count": 2,
   "metadata": {},
   "outputs": [
    {
     "data": {
      "image/png": "[encoded data removed]",
      "text/plain": [
       "<Figure size 432x288 with 1 Axes>"
      ]
     },
     "metadata": {
      "needs_background": "light"
     },
     "output_type": "display_data"
    }
   ],
   "source": [
    "data=np.array([[1,5],[4,2],[5,1]],dtype=np.float32)\n",
    "labels=np.array([[60],[80],[98]],dtype=np.float32)\n",
    "get=NeuralNetwork(data=data,labels=labels)\n",
    "loss_cost=get.loss\n",
    "plt.plot(range(len(loss_cost)),loss_cost)\n",
    "plt.show()\n"
   ]
  },
  {
   "cell_type": "code",
   "execution_count": null,
   "metadata": {},
   "outputs": [],
   "source": []
  }
 ],
 "metadata": {
  "kernelspec": {
   "display_name": "Python 3",
   "language": "python",
   "name": "python3"
  },
  "language_info": {
   "codemirror_mode": {
    "name": "ipython",
    "version": 3
   },
   "file_extension": ".py",
   "mimetype": "text/x-python",
   "name": "python",
   "nbconvert_exporter": "python",
   "pygments_lexer": "ipython3",
   "version": "3.7.3"
  }
 },
 "nbformat": 4,
 "nbformat_minor": 2
}
